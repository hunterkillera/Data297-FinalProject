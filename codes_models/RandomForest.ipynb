{
 "cells": [
  {
   "cell_type": "code",
   "execution_count": null,
   "metadata": {},
   "outputs": [],
   "source": [
    "import pandas as pd"
   ]
  },
  {
   "cell_type": "code",
   "execution_count": null,
   "id": "6cd2811d",
   "metadata": {},
   "outputs": [],
   "source": [
    "dir = \"../training_data/test-and-training/test_data/\"\n",
    "output_dir = \"../rule_based_results/\""
   ]
  },
  {
   "cell_type": "code",
   "execution_count": null,
   "id": "ec7824ce",
   "metadata": {},
   "outputs": [],
   "source": [
    "input_dir  = \"../data/train\"\n",
    "output_dir = "
   ]
  }
 ],
 "metadata": {
  "kernelspec": {
   "display_name": "Python 3 (ipykernel)",
   "language": "python",
   "name": "python3"
  },
  "language_info": {
   "codemirror_mode": {
    "name": "ipython",
    "version": 3
   },
   "file_extension": ".py",
   "mimetype": "text/x-python",
   "name": "python",
   "nbconvert_exporter": "python",
   "pygments_lexer": "ipython3",
   "version": "3.9.12"
  }
 },
 "nbformat": 4,
 "nbformat_minor": 5
}
