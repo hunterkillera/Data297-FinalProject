{
 "cells": [
  {
   "cell_type": "code",
   "execution_count": 49,
   "metadata": {},
   "outputs": [],
   "source": [
    "from sklearn.feature_extraction.text import TfidfVectorizer\n",
    "from sklearn.ensemble import RandomForestClassifier\n",
    "from sklearn.metrics import accuracy_score, confusion_matrix, precision_score, recall_score, ConfusionMatrixDisplay\n",
    "from sklearn.model_selection import RandomizedSearchCV, train_test_split\n",
    "from scipy.stats import randint\n",
    "\n",
    "# Tree Visualisation\n",
    "from sklearn.tree import export_graphviz\n",
    "from IPython.display import Image\n",
    "import graphviz\n",
    "\n",
    "import pandas as pd\n",
    "import os"
   ]
  },
  {
   "cell_type": "code",
   "execution_count": 9,
   "id": "ec7824ce",
   "metadata": {},
   "outputs": [],
   "source": [
    "# file names\n",
    "fn = \"lab-manual-mm-split\"\n",
    "seeds = [5768, 78516, 944601]\n",
    "\n",
    "# file directories\n",
    "train_dir   = \"../data/train\"\n",
    "test_dir    = \"../data/test\"\n",
    "output_dir  = \"../results\""
   ]
  },
  {
   "cell_type": "code",
   "execution_count": 69,
   "metadata": {},
   "outputs": [],
   "source": [
    "from nltk.corpus import stopwords\n",
    "from nltk.stem import WordNetLemmatizer\n",
    "from nltk.tokenize import word_tokenize\n",
    "import re\n",
    "import string\n",
    "\n",
    "# Preprocessing\n",
    "def preprocess(sentence):\n",
    "    # lowercase\n",
    "    sentence = sentence.lower()\n",
    "    \n",
    "    words = sentence.split(\" \")\n",
    "    \n",
    "    # remove punctuations\n",
    "    words = [word for word in words if word not in string.punctuation]\n",
    "    \n",
    "    # remove stopwords\n",
    "    stop_words = stopwords.words(\"english\")\n",
    "    words = [word for word in words if word not in stop_words]\n",
    "    \n",
    "    # lemmatization\n",
    "    lemmatizer = WordNetLemmatizer()\n",
    "    words = [lemmatizer.lemmatize(word) for word in words]\n",
    "\n",
    "    \n",
    "    return \" \".join(words)\n",
    "    "
   ]
  },
  {
   "cell_type": "code",
   "execution_count": 77,
   "metadata": {},
   "outputs": [],
   "source": [
    "# load data\n",
    "train   = pd.read_excel(f\"{train_dir}/{fn}-train-{seeds[0]}.xlsx\")\n",
    "test    = pd.read_excel(f\"{test_dir}/{fn}-test-{seeds[0]}.xlsx\")\n",
    "\n",
    "# preprocess the textual data\n",
    "train[\"sentence\"] = train[\"sentence\"].apply(preprocess)\n",
    "\n",
    "# split data into training and test sets\n",
    "X_train, X_test, y_train, y_test = train_test_split(train[\"sentence\"], train[\"label\"], test_size=0.2)\n",
    "\n",
    "# vectorization\n",
    "tfidfvectorizer = TfidfVectorizer(analyzer='word')\n",
    "X_train = tfidfvectorizer.fit_transform(X_train)\n",
    "X_test  = tfidfvectorizer.transform(X_test)\n",
    "\n",
    "# classification\n",
    "rf = RandomForestClassifier()\n",
    "rf.fit(X_train, y_train)\n",
    "y_pred = rf.predict(X_test)"
   ]
  },
  {
   "cell_type": "code",
   "execution_count": 74,
   "metadata": {},
   "outputs": [
    {
     "data": {
      "text/plain": [
       "'thought future development equally likely warrant action either direction, think committee take step probably would cause expectation easing become embedded market interest rates.'"
      ]
     },
     "execution_count": 74,
     "metadata": {},
     "output_type": "execute_result"
    }
   ],
   "source": [
    "X_train[1]"
   ]
  },
  {
   "cell_type": "code",
   "execution_count": 78,
   "metadata": {},
   "outputs": [
    {
     "name": "stdout",
     "output_type": "stream",
     "text": [
      "Accuracy: 0.585635359116022\n"
     ]
    }
   ],
   "source": [
    "# evaluation\n",
    "accuracy = accuracy_score(y_test, y_pred)\n",
    "print(\"Accuracy:\", accuracy)"
   ]
  },
  {
   "cell_type": "code",
   "execution_count": null,
   "metadata": {},
   "outputs": [],
   "source": []
  }
 ],
 "metadata": {
  "kernelspec": {
   "display_name": "Python 3 (ipykernel)",
   "language": "python",
   "name": "python3"
  },
  "language_info": {
   "codemirror_mode": {
    "name": "ipython",
    "version": 3
   },
   "file_extension": ".py",
   "mimetype": "text/x-python",
   "name": "python",
   "nbconvert_exporter": "python",
   "pygments_lexer": "ipython3",
   "version": "3.9.12"
  }
 },
 "nbformat": 4,
 "nbformat_minor": 5
}
