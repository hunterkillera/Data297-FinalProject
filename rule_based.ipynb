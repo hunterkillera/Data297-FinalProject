{
 "cells": [
  {
   "cell_type": "code",
   "execution_count": 3,
   "metadata": {},
   "outputs": [],
   "source": [
    "import collections\n",
    "import numpy as np\n",
    "import pandas as pd\n",
    "import os\n",
    "import re\n",
    "import sklearn.metrics as skm\n",
    "from string import digits"
   ]
  },
  {
   "cell_type": "code",
   "execution_count": 4,
   "metadata": {},
   "outputs": [],
   "source": [
    "# Read an Excel file using pandas\n",
    "mm_5768_test = '/Users/simonli/Desktop/data297/fomc-hawkish-dovish-main/training_data/test-and-training/test_data/lab-manual-mm-split-test-5768.xlsx'\n",
    "df_5768_test = pd.read_excel(mm_5768_test)\n",
    "\n",
    "\n",
    "mm_78516_test = '/Users/simonli/Desktop/data297/fomc-hawkish-dovish-main/training_data/test-and-training/test_data/lab-manual-mm-split-test-78516.xlsx'\n",
    "df_78516_test = pd.read_excel(mm_78516_test)\n",
    "\n",
    "mm_944601_test = '/Users/simonli/Desktop/data297/fomc-hawkish-dovish-main/training_data/test-and-training/test_data/lab-manual-mm-split-test-944601.xlsx'\n",
    "df_944601_test = pd.read_excel(mm_944601_test)\n"
   ]
  },
  {
   "cell_type": "code",
   "execution_count": 5,
   "metadata": {},
   "outputs": [],
   "source": [
    "## Yuriy Paper\n",
    "A1 = [\"inflation expectation\", \"interest rate\", \"bank rate\", \"fund rate\", \"price\", \"economic activity\", \"inflation\",\n",
    "      \"employment\"]\n",
    "A2 = [\"anchor\", \"cut\", \"subdue\", \"decline\", \"decrease\", \"reduce\", \"low\", \"drop\", \"fall\", \"fell\", \"decelarate\", \"slow\",\n",
    "      \"pause\", \"pausing\",\n",
    "      \"stable\", \"non-accelerating\", \"downward\", \"tighten\"]\n",
    "\n",
    "B1 = [\"unemployment\", \"growth\", \"exchange rate\", \"productivity\", \"deficit\", \"demand\", \"job market\", \"monetary policy\"]\n",
    "B2 = [\"ease\", \"easing\", \"rise\", \"rising\", \"increase\", \"expand\", \"improve\", \"strong\", \"upward\", \"raise\", \"high\", \"rapid\"]\n",
    "\n",
    "C = [\"weren't\", \"were not\", \"wasn't\", \"was not\", 'did not', \"didn't\", \"do not\", \"don't\", 'will not', \"won't\"]"
   ]
  },
  {
   "cell_type": "code",
   "execution_count": 6,
   "metadata": {},
   "outputs": [],
   "source": [
    "def rule_model(df):\n",
    "    sentences = df['sentence'].tolist()\n",
    "    pred = []\n",
    "    for s in sentences:\n",
    "        label = 0\n",
    "        if (any(word in s.lower() for word in A1) and any(word in s.lower() for word in A2)) or \\\n",
    "                (any(word in s.lower() for word in B1) and any(word in s.lower() for word in B2)):\n",
    "            label = 0\n",
    "        elif (any(word in s.lower() for word in A1) and any(word in s.lower() for word in B2)) or \\\n",
    "                (any(word in s.lower() for word in B1) and any(word in s.lower() for word in A2)):\n",
    "            label = 1\n",
    "        else:\n",
    "            label = 2\n",
    "        if label != 2 and (any(word in s.lower() for word in C)):\n",
    "            pred.append(1 - label)  # turn 0 to 1, and 1 to 0\n",
    "        else:\n",
    "            pred.append(label)\n",
    "\n",
    "    return pred"
   ]
  },
  {
   "cell_type": "code",
   "execution_count": 7,
   "metadata": {},
   "outputs": [],
   "source": [
    "# get the prediction\n",
    "\n",
    "pred_5768 = rule_model(df_5768_test)\n",
    "pred_78516 = rule_model(df_78516_test)\n",
    "pred_944601 = rule_model(df_944601_test)\n"
   ]
  },
  {
   "cell_type": "code",
   "execution_count": 8,
   "metadata": {},
   "outputs": [],
   "source": [
    "pred_5768 = np.array(pred_5768)\n",
    "pred_78516 = np.array(pred_78516)\n",
    "pred_944601 = np.array(pred_944601)"
   ]
  },
  {
   "cell_type": "code",
   "execution_count": 10,
   "metadata": {},
   "outputs": [
    {
     "name": "stdout",
     "output_type": "stream",
     "text": [
      "5768 accuracy:  0.4977973568281938\n",
      "78516 accuracy:  0.5022026431718062\n",
      "944601 accuracy:  0.5682819383259912\n"
     ]
    }
   ],
   "source": [
    "#check the accuracy\n",
    "print('5768 accuracy: ', skm.accuracy_score(df_5768_test['label'], pred_5768))\n",
    "print('78516 accuracy: ', skm.accuracy_score(df_78516_test['label'], pred_78516))\n",
    "print('944601 accuracy: ', skm.accuracy_score(df_944601_test['label'], pred_944601))"
   ]
  }
 ],
 "metadata": {
  "kernelspec": {
   "display_name": "ml135_env_sp23",
   "language": "python",
   "name": "python3"
  },
  "language_info": {
   "codemirror_mode": {
    "name": "ipython",
    "version": 3
   },
   "file_extension": ".py",
   "mimetype": "text/x-python",
   "name": "python",
   "nbconvert_exporter": "python",
   "pygments_lexer": "ipython3",
   "version": "3.10.4"
  }
 },
 "nbformat": 4,
 "nbformat_minor": 2
}
