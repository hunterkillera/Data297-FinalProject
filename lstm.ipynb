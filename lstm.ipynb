{
 "cells": [
  {
   "cell_type": "code",
   "execution_count": 2,
   "metadata": {},
   "outputs": [],
   "source": [
    "#preprocess the data\n",
    "def preprocess(text):\n",
    "    max_words = 5000\n",
    "    tokenizer = Tokenizer(num_words=max_words, oov_token=\"<OOV>\")\n",
    "    tokenizer.fit_on_texts(text)\n",
    "    \n",
    "    #convert text to sequences of indices\n",
    "    sequences = tokenizer.texts_to_sequences(text)\n",
    "\n",
    "    #padding sequences\n",
    "    max_length = 100\n",
    "    padded_sequence = pad_sequence(sequences, maxlen=max_length, padding='post', truncating='post')\n",
    "\n",
    "    return np.array(padded_sequence)"
   ]
  }
 ],
 "metadata": {
  "kernelspec": {
   "display_name": "ml135_env_sp23",
   "language": "python",
   "name": "python3"
  },
  "language_info": {
   "codemirror_mode": {
    "name": "ipython",
    "version": 3
   },
   "file_extension": ".py",
   "mimetype": "text/x-python",
   "name": "python",
   "nbconvert_exporter": "python",
   "pygments_lexer": "ipython3",
   "version": "3.10.4"
  }
 },
 "nbformat": 4,
 "nbformat_minor": 2
}
